{
 "cells": [
  {
   "cell_type": "markdown",
   "metadata": {},
   "source": [
    "# Simulations of scattering event according to original dynamics"
   ]
  },
  {
   "cell_type": "code",
   "execution_count": 4,
   "metadata": {},
   "outputs": [
    {
     "name": "stderr",
     "output_type": "stream",
     "text": [
      "WARNING: replacing module TwoBodyScattering.\n"
     ]
    },
    {
     "ename": "ArgumentError",
     "evalue": "ArgumentError: Package TwoBodyScattering not found in current path, maybe you meant `import/using .TwoBodyScattering`.\n- Otherwise, run `import Pkg; Pkg.add(\"TwoBodyScattering\")` to install the TwoBodyScattering package.",
     "output_type": "error",
     "traceback": [
      "ArgumentError: Package TwoBodyScattering not found in current path, maybe you meant `import/using .TwoBodyScattering`.\n",
      "- Otherwise, run `import Pkg; Pkg.add(\"TwoBodyScattering\")` to install the TwoBodyScattering package.\n",
      "\n",
      "Stacktrace:\n",
      "  [1] macro expansion\n",
      "    @ ./loading.jl:1630 [inlined]\n",
      "  [2] macro expansion\n",
      "    @ ./lock.jl:267 [inlined]\n",
      "  [3] require(into::Module, mod::Symbol)\n",
      "    @ Base ./loading.jl:1611\n",
      "  [4] eval\n",
      "    @ ./boot.jl:370 [inlined]\n",
      "  [5] include_string(mapexpr::typeof(REPL.softscope), mod::Module, code::String, filename::String)\n",
      "    @ Base ./loading.jl:1903\n",
      "  [6] #invokelatest#2\n",
      "    @ ./essentials.jl:819 [inlined]\n",
      "  [7] invokelatest\n",
      "    @ ./essentials.jl:816 [inlined]\n",
      "  [8] (::VSCodeServer.var\"#202#203\"{VSCodeServer.NotebookRunCellArguments, String})()\n",
      "    @ VSCodeServer ~/.vscode/extensions/julialang.language-julia-1.60.2/scripts/packages/VSCodeServer/src/serve_notebook.jl:19\n",
      "  [9] withpath(f::VSCodeServer.var\"#202#203\"{VSCodeServer.NotebookRunCellArguments, String}, path::String)\n",
      "    @ VSCodeServer ~/.vscode/extensions/julialang.language-julia-1.60.2/scripts/packages/VSCodeServer/src/repl.jl:274\n",
      " [10] notebook_runcell_request(conn::VSCodeServer.JSONRPC.JSONRPCEndpoint{Base.PipeEndpoint, Base.PipeEndpoint}, params::VSCodeServer.NotebookRunCellArguments)\n",
      "    @ VSCodeServer ~/.vscode/extensions/julialang.language-julia-1.60.2/scripts/packages/VSCodeServer/src/serve_notebook.jl:13\n",
      " [11] dispatch_msg(x::VSCodeServer.JSONRPC.JSONRPCEndpoint{Base.PipeEndpoint, Base.PipeEndpoint}, dispatcher::VSCodeServer.JSONRPC.MsgDispatcher, msg::Dict{String, Any})\n",
      "    @ VSCodeServer.JSONRPC ~/.vscode/extensions/julialang.language-julia-1.60.2/scripts/packages/JSONRPC/src/typed.jl:67\n",
      " [12] serve_notebook(pipename::String, outputchannel_logger::Base.CoreLogging.SimpleLogger; crashreporting_pipename::String)\n",
      "    @ VSCodeServer ~/.vscode/extensions/julialang.language-julia-1.60.2/scripts/packages/VSCodeServer/src/serve_notebook.jl:139\n",
      " [13] top-level scope\n",
      "    @ ~/.vscode/extensions/julialang.language-julia-1.60.2/scripts/notebook/notebook.jl:32"
     ]
    }
   ],
   "source": [
    "using NBInclude\n",
    "using Ranges\n",
    "\n",
    "include(\"./functions.jl\")\n",
    "using TwoBodyScattering"
   ]
  },
  {
   "cell_type": "code",
   "execution_count": 2,
   "metadata": {},
   "outputs": [],
   "source": [
    "#Define parameters for simulations\n",
    "\n",
    "global v0::Float64 = 10.0; # Self-propulsion speed\n",
    "global int_range::Float64 = 1; #Range of interactions\n",
    "global gamma::Float64 = 1.0; # Intensity of interactions\n",
    "global dtf::Float64 = 1e-4;"
   ]
  },
  {
   "cell_type": "code",
   "execution_count": null,
   "metadata": {},
   "outputs": [],
   "source": [
    "#Define required vectors and variables for saving results\n",
    "\n",
    "total_N::Int64 = 100;\n",
    "dphi::Float64 = 2*pi/total_N;\n",
    "phi1seq = range(-pi, pi, total_N);\n",
    "phi2seq = range(-pi, pi, total_N);\n",
    "deltaps = Float64[];\n",
    "dinit = Float64[];\n",
    "\n",
    "# Simulate the scattering events and save outgoing angle\n",
    "\n",
    "generate!(dinit, deltaps,\n",
    "        dphi,\n",
    "        gamma, v0, int_range, 0.0,\n",
    "        dtf);"
   ]
  },
  {
   "cell_type": "code",
   "execution_count": null,
   "metadata": {},
   "outputs": [],
   "source": [
    "pos_deltaps = Float64[];\n",
    "pos_dinit = Float64[];\n",
    "for i in 1:length(deltaps)\n",
    "   if deltaps[i] < 0\n",
    "        push!(pos_dinit, dinit[i]);\n",
    "        push!(pos_deltaps, deltaps[i]);\n",
    "    end\n",
    "end\n",
    "    "
   ]
  },
  {
   "cell_type": "code",
   "execution_count": null,
   "metadata": {},
   "outputs": [],
   "source": [
    "scatter(dinit,deltaps)"
   ]
  },
  {
   "cell_type": "code",
   "execution_count": null,
   "metadata": {},
   "outputs": [],
   "source": [
    "#Run simulations at fixed v_0 for different values of dissipation\n",
    "using Plots\n",
    "\n",
    "#Variables for simulation\n",
    "total_N::Int64 = 100;\n",
    "dphi::Float64 = 2*pi/total_N;\n",
    "phi1seq::Vector{Float64} = range(-pi, pi, total_N);\n",
    "phi2seq::Vector{Float64} = range(-pi, pi, total_N);\n",
    "deltaps::Vector{Float64} = Float64[];\n",
    "thetatot::Vector{Float64} = Float64[];\n",
    "dinit::Vector{Float64} = Float64[];\n",
    "v0::Float64 = 100;\n",
    "\n",
    "#Ranges of values for dissipation intensity\n",
    "cranges = 0.1:0.1:1;\n",
    "\n",
    "#Colours palette\n",
    "palettes = range(colorant\"red\", stop=colorant\"green\", length=length(cranges));\n",
    "\n",
    "#Generate first plot\n",
    "\n",
    "generate!(dinit, thetatot, deltaps,\n",
    "        dphi,\n",
    "        gamma, v0, int_range, 0.0,\n",
    "        dtf);\n",
    "rangex = -(pi):dphi:(pi-dphi);\n",
    "avgpdp = zeros(length(rangex));\n",
    "totn = zeros(length(rangex));\n",
    "for x in 2:length(rangex)\n",
    "    for i in 1:length(dinit)\n",
    "        if modulate(dinit[i]) <= rangex[x] && modulate(dinit[i]) > rangex[x-1]\n",
    "            avgpdp[x]+=deltaps[i];\n",
    "            totn[x]+=1;\n",
    "        end\n",
    "    end\n",
    "end\n",
    "avgpdp = avgpdp./totn;\n",
    "\n",
    "p = plot(rangex[Int(total_N/2):(total_N-1)], avgpdp[Int(total_N/2):(total_N-1)], xticks=pitick(-pi,pi,4), color = palettes[1])\n",
    "xlabel!(p, \"Delta\")\n",
    "ylabel!(p, \"pdp\")\n",
    "\n",
    "#Generate plots for all ranges of intensities\n",
    "\n",
    "for i in 1:length(cranges)\n",
    "   generate!(dinit, thetatot, deltaps,\n",
    "        dphi,\n",
    "        gamma, v0, int_range, cranges[i],\n",
    "        dtf);\n",
    "    \n",
    "    avgpdp = zeros(length(rangex));\n",
    "    totn = zeros(length(rangex));\n",
    "    for x in 2:length(rangex)\n",
    "        for i in 1:length(dinit)\n",
    "            if modulate(dinit[i]) <= rangex[x] && modulate(dinit[i]) > rangex[x-1]\n",
    "                avgpdp[x]+=deltaps[i];\n",
    "                totn[x]+=1;\n",
    "            end\n",
    "        end\n",
    "    end\n",
    "    avgpdp = avgpdp./totn;\n",
    "\n",
    "    plot!(p, rangex[Int(total_N/2):(total_N-1)], avgpdp[Int(total_N/2):(total_N-1)], xticks=pitick(-pi,pi,4), color = palettes[i])\n",
    "end"
   ]
  },
  {
   "cell_type": "code",
   "execution_count": null,
   "metadata": {},
   "outputs": [],
   "source": [
    "p\n",
    "#savefig(\"pdpv0100VaringDissfrom0to1.pdf\")"
   ]
  },
  {
   "cell_type": "code",
   "execution_count": null,
   "metadata": {},
   "outputs": [],
   "source": [
    "phi10 = pi/2+0.1;\n",
    "phi20 = -1.0;\n",
    "pdp, phi1t, phi2t, a11, a22 = scatteringmovie(phi10,phi20,1.0,1e-7, \n",
    "                            1.0, 100.0, 0.0);"
   ]
  },
  {
   "cell_type": "code",
   "execution_count": null,
   "metadata": {},
   "outputs": [],
   "source": [
    "using Plots\n",
    "\n",
    "lims = 10;\n",
    "steps = 1000;\n",
    "animd = @animate for i in 1:steps:length(a11)\n",
    "    plot(Tuple.(a11[i]), xlims=(-lims,lims), ylims=(-5,5))\n",
    "    plot!(Tuple.(a22[i]))\n",
    "end"
   ]
  },
  {
   "cell_type": "code",
   "execution_count": null,
   "metadata": {},
   "outputs": [],
   "source": [
    "gif(animd, fps=30)"
   ]
  },
  {
   "cell_type": "code",
   "execution_count": null,
   "metadata": {},
   "outputs": [],
   "source": [
    "print(phi1t, \" \", phi10,\"\\n\")\n",
    "print(phi2t, \" \", phi20,\"\\n\")"
   ]
  },
  {
   "cell_type": "code",
   "execution_count": null,
   "metadata": {},
   "outputs": [],
   "source": [
    "print(phi1t-phi2t, \"\\n\")\n",
    "print(phi10-phi20, \"\\n\")\n",
    "print(phi10-phi20-2*pi)"
   ]
  },
  {
   "cell_type": "code",
   "execution_count": null,
   "metadata": {},
   "outputs": [],
   "source": []
  }
 ],
 "metadata": {
  "kernelspec": {
   "display_name": "Julia 1.9.3",
   "language": "julia",
   "name": "julia-1.9"
  },
  "language_info": {
   "file_extension": ".jl",
   "mimetype": "application/julia",
   "name": "julia",
   "version": "1.9.3"
  }
 },
 "nbformat": 4,
 "nbformat_minor": 4
}
