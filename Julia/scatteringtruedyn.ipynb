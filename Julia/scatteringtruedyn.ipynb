{
 "cells": [
  {
   "cell_type": "markdown",
   "metadata": {},
   "source": [
    "# Simulations of scattering event according to original dynamics"
   ]
  },
  {
   "cell_type": "code",
   "execution_count": null,
   "metadata": {},
   "outputs": [],
   "source": [
    "using Plots\n",
    "\n",
    "\n",
    "include(\"functions.jl\")\n",
    "using .TwoBodyScattering"
   ]
  },
  {
   "cell_type": "code",
   "execution_count": null,
   "metadata": {},
   "outputs": [],
   "source": [
    "#Define parameters for simulations\n",
    "\n",
    "#Parameters taken from experimental values (in micrometers)\n",
    "permit::Float64 = 6.95*1e-28;\n",
    "diss_max::Float64 = 3/(4*pi*permit)*(9.76+4.64)^2*1e-32*(25*1e-9)^(-1);\n",
    "gamma::Float64 = 3*0.56/(4*pi*permit)*(9.76^2-4.64^2)*1e-32*(75*1e-9)^(-1);\n",
    "int_range::Float64 = 1.0/(120);\n",
    "v0::Float64 = 50.0;"
   ]
  },
  {
   "cell_type": "code",
   "execution_count": null,
   "metadata": {},
   "outputs": [],
   "source": [
    "#Define required vectors and variables for saving results\n",
    "\n",
    "total_N::Int64 = 100;\n",
    "dphi::Float64 = 2*pi/total_N;\n",
    "phi1seq = range(-pi, pi, total_N);\n",
    "phi2seq = range(-pi, pi, total_N);\n",
    "deltaps = Float64[];\n",
    "dinit = Float64[];\n",
    "\n",
    "# Simulate the scattering events and save outgoing angle\n",
    "\n",
    "generate!(dinit, deltaps,\n",
    "        dphi,\n",
    "        gamma, v0, int_range, 0.0,\n",
    "        dtf);"
   ]
  },
  {
   "cell_type": "code",
   "execution_count": null,
   "metadata": {},
   "outputs": [],
   "source": [
    "pos_deltaps = Float64[];\n",
    "pos_dinit = Float64[];\n",
    "for i in 1:length(deltaps)\n",
    "   if deltaps[i] < 0\n",
    "        push!(pos_dinit, dinit[i]);\n",
    "        push!(pos_deltaps, deltaps[i]);\n",
    "    end\n",
    "end\n",
    "    "
   ]
  },
  {
   "cell_type": "code",
   "execution_count": null,
   "metadata": {},
   "outputs": [],
   "source": [
    "scatter(dinit,deltaps)"
   ]
  },
  {
   "cell_type": "code",
   "execution_count": null,
   "metadata": {},
   "outputs": [],
   "source": [
    "#Run simulations at fixed v_0 for different values of dissipation\n",
    "\n",
    "#Variables for simulation\n",
    "total_N::Int64 = 100;\n",
    "dphi::Float64 = 2*pi/total_N;\n",
    "phi1seq::Vector{Float64} = range(-pi, pi, total_N);\n",
    "phi2seq::Vector{Float64} = range(-pi, pi, total_N);\n",
    "deltaps::Vector{Float64} = Float64[];\n",
    "thetatot::Vector{Float64} = Float64[];\n",
    "dinit::Vector{Float64} = Float64[];\n",
    "dt::Float64 = 0.1;\n",
    "\n",
    "#Parameters taken from experimental values (in micrometers)\n",
    "permit::Float64 = 6.95*1e-28;\n",
    "diss_max::Float64 = 3/(4*pi*permit)*(9.76+4.64)^2*1e-32*(25*1e-9)^(-1);\n",
    "gamma::Float64 = 3*0.56/(4*pi*permit)*(9.76^2-4.64^2)*1e-32*(75*1e-9)^(-1);\n",
    "int_range::Float64 = 1.0/(20);\n",
    "v0::Float64 = 10.0;\n",
    "\n",
    "print(\"Chosen parameters (micrometers): \", \"\\n\",\n",
    "        \"Permittivity: \", permit, \"\\n\",\n",
    "        \"Maximum value of dissipation: \", diss_max, \"\\n\",\n",
    "        \"Intensity of rot. interactions: \", gamma, \"\\n\")\n",
    "\n",
    "#Ranges of values for dissipation intensity\n",
    "cranges = 1000:1000:diss_max;\n",
    "#Vector of averaged of pdp\n",
    "avgpdps::Vector{Float64} = Vector{Float64}(undef, length(cranges)+1);\n",
    "\n",
    "#Colours palette\n",
    "palettes = range(colorant\"red\", stop=colorant\"green\", length=length(cranges));\n",
    "\n",
    "#Generate first plot\n",
    "\n",
    "generate!(dinit, thetatot, deltaps,\n",
    "        dphi,\n",
    "        gamma, v0, int_range, diss_max,\n",
    "        dt);\n",
    "rangex = -(pi):dphi:(pi-dphi);\n",
    "avgpdp = zeros(length(rangex));\n",
    "totn = zeros(length(rangex));\n",
    "for x in 1:length(rangex)\n",
    "    for i in 1:length(dinit)\n",
    "        if modulate(dinit[i]) <= rangex[x] && modulate(dinit[i]) > rangex[x-1]\n",
    "            avgpdp[x]+=deltaps[i];\n",
    "            totn[x]+=1;\n",
    "        end\n",
    "    end\n",
    "end\n",
    "avgpdp = avgpdp./totn;\n",
    "v = abs.(sin.(rangex./2)).*avgpdp;\n",
    "avgpdps[1] = dphi*sum(vcat(v[2:Int((length(rangex)+1)/2)],v[Int((length(rangex)+1)/2)+2:end]));\n",
    "\n",
    "p = plot(rangex[Int(total_N/2):(total_N-1)], avgpdp[Int(total_N/2):(total_N-1)], xticks=pitick(-pi,pi,4), color = palettes[1], legend=false)\n",
    "xlabel!(p, \"Delta\")\n",
    "ylabel!(p, \"pdp\")\n",
    "\n",
    "#Generate plots for all ranges of intensities\n",
    "\n",
    "# for i in 1:length(cranges)\n",
    "#    generate!(dinit, thetatot, deltaps,\n",
    "#         dphi,\n",
    "#         gamma, v0, int_range, cranges[i],\n",
    "#         dt);\n",
    "    \n",
    "#     avgpdp = zeros(length(rangex));\n",
    "#     totn = zeros(length(rangex));\n",
    "#     for x in 1:length(rangex)\n",
    "#         for i in 1:length(dinit)\n",
    "#             if modulate(dinit[i]) <= rangex[x] && modulate(dinit[i]) > rangex[x-1]\n",
    "#                 avgpdp[x]+=deltaps[i];\n",
    "#                 totn[x]+=1;\n",
    "#             end\n",
    "#         end\n",
    "#     end\n",
    "#     avgpdp = avgpdp./totn;\n",
    "#     vs = abs.(sin.(rangex./2)).*avgpdp;\n",
    "#     avgpdps[i+1] = dphi*sum(vcat(vs[2:Int((length(rangex)+1)/2)],vs[Int((length(rangex)+1)/2)+2:end]));\n",
    "\n",
    "#     plot!(p, rangex[Int(total_N/2):(total_N-1)], avgpdp[Int(total_N/2):(total_N-1)], xticks=pitick(-pi,pi,4), color = palettes[i])\n",
    "# end"
   ]
  },
  {
   "cell_type": "code",
   "execution_count": null,
   "metadata": {},
   "outputs": [],
   "source": [
    "#Plot final result\n",
    "p\n",
    "#savefig(\"pdpv0100VaringDissfrom0to1.pdf\")"
   ]
  },
  {
   "cell_type": "code",
   "execution_count": null,
   "metadata": {},
   "outputs": [],
   "source": [
    "#Plot dependence of average of pdp on repulsion force\n",
    "plot(vcat([0],cranges), avgpdps, color=:black, grid = false)\n",
    "hline!([0,0], style=:dash)\n",
    "xlabel!(\"Dissipation Strength\")\n",
    "ylabel!(\"Average of pdp\")\n",
    "#savefig(\"pdpvStrength.pdf\")"
   ]
  },
  {
   "cell_type": "code",
   "execution_count": null,
   "metadata": {},
   "outputs": [],
   "source": [
    "#Plot movies of single scattering events\n",
    "phi10::Float64 = +1.1;\n",
    "phi20::Float64 = -1.1;\n",
    "\n",
    "pdp, phi1t, phi2t, a11, a22 = TwoBodyScattering.scatteringmovie(phi10, phi20, 1/20, 0.1, gamma, 10.0, 30000.0)\n",
    "pdp, phi1t, phi2t, a11_1, a22_ = TwoBodyScattering.scatteringmovie(phi10, phi20, 1/20, 0.01, gamma, 100.0, 30000.0)\n",
    "\n",
    "\n",
    "lims = 20;\n",
    "steps = 1;\n",
    "animd = @animate for i in 1:steps:length(a11)\n",
    "    plot(Tuple.(a11[i]), xlims=(-lims,lims+500), ylims=(-lims+lims/2,lims))\n",
    "    plot!(Tuple.(a22[i]))\n",
    "end\n",
    "\n",
    "animd_1 = @animate for i in 1:steps:length(a11_1)\n",
    "    plot(Tuple.(a11_1[i]), xlims=(-lims,lims+500), ylims=(-lims+lims/2,lims))\n",
    "    plot!(Tuple.(a22_1[i]))\n",
    "end"
   ]
  },
  {
   "cell_type": "code",
   "execution_count": null,
   "metadata": {},
   "outputs": [],
   "source": [
    "gif(animd_1, fps = 30)"
   ]
  },
  {
   "cell_type": "markdown",
   "metadata": {},
   "source": [
    "## Average over different velocities and make phase diagram"
   ]
  },
  {
   "cell_type": "code",
   "execution_count": 2,
   "metadata": {},
   "outputs": [],
   "source": [
    "#Variables for simulations\n",
    "total_N::Int64 = 100;\n",
    "dphi::Float64 = 2*pi/total_N;\n",
    "phi1seq::Vector{Float64} = range(-pi, pi, total_N);\n",
    "phi2seq::Vector{Float64} = range(-pi, pi, total_N);\n",
    "deltaps::Vector{Float64} = Float64[];\n",
    "thetatot::Vector{Float64} = Float64[];\n",
    "dinit::Vector{Float64} = Float64[];\n",
    "\n",
    "#Parameters taken from experimental values (in micrometers)\n",
    "permit::Float64 = 6.95*1e-28;\n",
    "diss_max::Float64 = 3/(4*pi*permit)*(9.76+4.64)^2*1e-32*(25*1e-9)^(-1);\n",
    "gamma::Float64 = 3*0.56/(4*pi*permit)*(9.76^2-4.64^2)*1e-32*(75*1e-9)^(-1);\n",
    "int_range::Float64 = 1.0/(10);\n",
    "\n",
    "#Vectors for choices of velocities and savings of total averages of pdp\n",
    "rangesv::Vector{Float64} = 1:2:100;\n",
    "avgspdpv::Vector{Float64} = zeros(length(rangesv));\n",
    "third_order::Vector{Float64} = zeros(length(rangesv));\n",
    "dphis::Vector{Float64} = -(pi):dphi:(pi-dphi);\n",
    "\n",
    "calc_avg!(avgspdpv, third_order,\n",
    "        rangesv, dphis,\n",
    "        gamma, diss_max, int_range,\n",
    "        dphi)"
   ]
  },
  {
   "cell_type": "code",
   "execution_count": 3,
   "metadata": {},
   "outputs": [],
   "source": [
    "#Calculate whether flocking happens or not, by creating corresponding matrix\n",
    "\n",
    "#Rotational diffusion contstant\n",
    "Dr::Float64 = 0.15;\n",
    "#Effective range of interactions\n",
    "rangeLambda::Float64 = 10.0;\n",
    "#Radius of particle\n",
    "rparticle::Float64 = 1.5;\n",
    "#Area of single particle\n",
    "Ap::Float64 = pi*rparticle^2;\n",
    "\n",
    "#Vectors to iterate over\n",
    "afractions::Vector{Float64} = 0.01:0.02:0.26;\n",
    "densities::Vector{Float64} = afractions.*1/Ap;\n",
    "totalmus::Matrix{Float64} = zeros(length(rangesv), length(densities));\n",
    "totalxis::Matrix{Float64} = zeros(length(rangesv), length(densities));\n",
    "polarizations::Matrix{Float64} = zeros(length(rangesv), length(densities));\n",
    "\n",
    "\n",
    "\n",
    "for i in 1:length(rangesv)\n",
    "    for j in 1:length(densities)\n",
    "        totalmus[i,j] = 1/(2*pi)*2*rangeLambda*densities[j]*rangesv[i]*avgspdpv[i]-Dr;\n",
    "        totalxis[i,j] = 1/(2*pi)*2*rangeLambda*densities[j]*rangesv[i]*third_order[i];\n",
    "        if totalmus[i,j] < 0\n",
    "            polarizations[i,j] = 0;\n",
    "        elseif totalmus[i,j] > 0 && totalxis[i,j] > 0\n",
    "            polarizations[i,j] = sqrt(totalmus[i,j]/totalxis[i,j]);\n",
    "        end\n",
    "    end\n",
    "end\n",
    "\n"
   ]
  },
  {
   "cell_type": "code",
   "execution_count": null,
   "metadata": {},
   "outputs": [],
   "source": [
    "#Plot heatmap\n",
    "z = transpose(totalmus)[:];\n",
    "y = repeat(afractions, length(afractions));\n",
    "x = repeat(rangesv, inner = length(afractions));\n",
    "negativeaf = zeros(length(rangesv));\n",
    "for i in 1:length(rangesv)\n",
    "    j::Int64 = 1;\n",
    "    while polarizations[i,j] == 0\n",
    "        j+=1;\n",
    "        if j > length(afractions)\n",
    "            j -= 1;\n",
    "            break\n",
    "        end\n",
    "    end\n",
    "    negativeaf[i] = afractions[j];\n",
    "end\n",
    "scatter(x, y, zcolor = z, grid = false, markersize = 5, c=:rainbow1, legend = false, colorbar = true)\n",
    "plot!(rangesv, negativeaf, color=:black, linewidth=3, legend = false)\n",
    "xlabel!(\"Velocity\")\n",
    "ylabel!(\"Area Fraction\")\n",
    "#savefig(\"phasediagram.pdf\")"
   ]
  },
  {
   "cell_type": "code",
   "execution_count": 4,
   "metadata": {},
   "outputs": [
    {
     "data": {
      "text/plain": [
       "50×13 Matrix{Float64}:\n",
       " 0.00162386  0.00487159  0.00811932  …  0.0341011  0.0373489  0.0405966\n",
       " 0.00396461  0.0118938   0.019823       0.0832568  0.091186   0.0991152\n",
       " 0.00549748  0.0164925   0.0274874      0.115447   0.126442   0.137437\n",
       " 0.00685123  0.0205537   0.0342562      0.143876   0.157578   0.171281\n",
       " 0.00811496  0.0243449   0.0405748      0.170414   0.186644   0.202874\n",
       " 0.00931865  0.027956    0.0465933   …  0.195692   0.214329   0.232966\n",
       " 0.0104592   0.0313776   0.0522959      0.219643   0.240561   0.26148\n",
       " 0.0115697   0.0347091   0.0578485      0.242964   0.266103   0.289243\n",
       " 0.0126389   0.0379166   0.0631944      0.265416   0.290694   0.315972\n",
       " 0.0136769   0.0410308   0.0683847      0.287216   0.31457    0.341924\n",
       " ⋮                                   ⋱  ⋮                     \n",
       " 0.0405823   0.121747    0.202912       0.852229   0.933393   1.01456\n",
       " 0.0413232   0.12397     0.206616       0.867787   0.950434   1.03308\n",
       " 0.0420615   0.126184    0.210307       0.883291   0.967414   1.05154\n",
       " 0.0427969   0.128391    0.213985       0.898736   0.984329   1.06992\n",
       " 0.043531    0.130593    0.217655    …  0.91415    1.00121    1.08827\n",
       " 0.0442571   0.132771    0.221285       0.929399   1.01791    1.10643\n",
       " 0.0449818   0.134945    0.224909       0.944618   1.03458    1.12455\n",
       " 0.0457061   0.137118    0.22853        0.959827   1.05124    1.14265\n",
       " 0.0464284   0.139285    0.232142       0.974997   1.06785    1.16071"
      ]
     },
     "metadata": {},
     "output_type": "display_data"
    }
   ],
   "source": [
    "totalxis"
   ]
  }
 ],
 "metadata": {
  "kernelspec": {
   "display_name": "Julia 1.9.4",
   "language": "julia",
   "name": "julia-1.9"
  },
  "language_info": {
   "file_extension": ".jl",
   "mimetype": "application/julia",
   "name": "julia",
   "version": "1.9.4"
  }
 },
 "nbformat": 4,
 "nbformat_minor": 4
}
